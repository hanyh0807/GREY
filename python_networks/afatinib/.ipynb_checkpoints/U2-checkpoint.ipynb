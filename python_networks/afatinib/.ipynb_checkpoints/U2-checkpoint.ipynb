{
 "cells": [
  {
   "cell_type": "code",
   "execution_count": 1,
   "metadata": {},
   "outputs": [],
   "source": [
    "import numpy as np\n",
    "import seaborn as sns\n",
    "import Simul_tvt_split as test_prob\n",
    "import attractor\n",
    "import pickle\n",
    "import re\n",
    "import os\n",
    "import json"
   ]
  },
  {
   "cell_type": "code",
   "execution_count": 2,
   "metadata": {},
   "outputs": [
    {
     "name": "stdout",
     "output_type": "stream",
     "text": [
      "False\n"
     ]
    }
   ],
   "source": [
    "env = test_prob.simul(num_initial=20000)\n",
    "self = env\n",
    "self.reset_initials()\n",
    "self.calc_type = 'original'\n",
    "print(self.outmut_initial)"
   ]
  },
  {
   "cell_type": "code",
   "execution_count": 3,
   "metadata": {},
   "outputs": [],
   "source": [
    "tp53idx = np.where((self.status_test.loc['EGFR'] != 1) & (self.status_test.loc['ERBB2'] != 1))[0]"
   ]
  },
  {
   "cell_type": "code",
   "execution_count": 96,
   "metadata": {},
   "outputs": [],
   "source": [
    "zz = self.status.values.copy()\n",
    "zz[zz==2]=0\n",
    "zz[zz==-2]=0\n",
    "\n",
    "zu, counts = np.unique(zz,axis=1, return_counts=True)\n",
    "\n",
    "zzz = self.status_test.values.copy()\n",
    "zzz[zzz==2]=0\n",
    "zzz[zzz==-2]=0\n",
    "\n",
    "zz = zzz\n",
    "#tp53idx = np.where((np.sum(np.abs(zz - zu[:,19].reshape([-1,1])), axis=0)==0))[0]  # TP53\n",
    "tp53idx = np.where((np.sum(np.abs(zz - zu[:,21].reshape([-1,1])), axis=0)==0))[0]  # Empty mut."
   ]
  },
  {
   "cell_type": "code",
   "execution_count": 4,
   "metadata": {},
   "outputs": [
    {
     "data": {
      "text/plain": [
       "(110,)"
      ]
     },
     "execution_count": 4,
     "metadata": {},
     "output_type": "execute_result"
    }
   ],
   "source": [
    "tp53idx.shape"
   ]
  },
  {
   "cell_type": "code",
   "execution_count": 5,
   "metadata": {},
   "outputs": [],
   "source": [
    "#with open('../../GA/pop100_result_afatinib_outmutbasal_withaction.p','rb') as f:\n",
    "with open('../../GA/pop100_result_afatinib_outmutbasal_nonzero_withaction.p','rb') as f:\n",
    "#with open('../../GA/pop100_result_afatinib_0.1prol_withaction.p','rb') as f:\n",
    "#with open('../../GA/pop100_result_afatinib_R_withaction.p','rb') as f:\n",
    "    result = pickle.load(f)\n",
    "a_pred = result['actions'][0]"
   ]
  },
  {
   "cell_type": "markdown",
   "metadata": {},
   "source": [
    "# no mutation. only perturbation"
   ]
  },
  {
   "cell_type": "code",
   "execution_count": 114,
   "metadata": {},
   "outputs": [
    {
     "name": "stdout",
     "output_type": "stream",
     "text": [
      "first [] []\n",
      "second [15 17] []\n",
      "first [] []\n",
      "second [15 17] []\n",
      "first [] []\n",
      "second [15 17] []\n",
      "first [] []\n",
      "second [15 17] []\n",
      "first [] []\n",
      "second [15 17] []\n",
      "first [] []\n",
      "second [15 17] []\n",
      "first [] []\n",
      "second [15 17] []\n",
      "first [] []\n",
      "second [15 17] []\n",
      "first [] []\n",
      "second [15 17] []\n",
      "first [] []\n",
      "second [15 17] []\n"
     ]
    }
   ],
   "source": [
    "z = []\n",
    "for _ in range(10):\n",
    "    self.outmut_initial = False\n",
    "    self.reset_initials()\n",
    "    current_sm = self.sign_mask\n",
    "    current_origin = self.weightmat[self.weightmat!=0]\n",
    "\n",
    "\n",
    "    newpa = np.array(current_sm.copy())\n",
    "    #newpa[newpa!=0] = np.round([:-len(self.Nodes[self.num_input_node:])]).astype(np.int)\n",
    "    newpa[newpa!=0] = np.round(a_pred).astype(np.int)\n",
    "\n",
    "    newpa = newpa * current_sm\n",
    "    newba = 0\n",
    "\n",
    "    stim_idx_np = np.array([])\n",
    "    pert_idx_np = np.array([])\n",
    "\n",
    "    initial_stim_idx_np = np.array([])\n",
    "    initial_pert_idx_np = np.array([])\n",
    "\n",
    "    cur_initials = self.initials.copy()\n",
    "\n",
    "    print('first',pert_idx_np, stim_idx_np)\n",
    "    yy = np.array(attractor.find_attractor_pert_v4(newpa, cur_initials, pert_idx_np, stim_idx_np, self.outmut_initial, initial_pert_idx_np, initial_stim_idx_np))\n",
    "\n",
    "    yy_unique = np.concatenate(yy,axis=0)\n",
    "    yy_unique, counts = np.unique(yy_unique, axis=0, return_counts=True)\n",
    "    yy_aver = np.average(yy_unique,axis=0,weights=counts)\n",
    "\n",
    "    pert_nodes = [s for s in list(pert_mini.index[pert_mini.iloc[:,i]])]\n",
    "    for pn in pert_nodes:\n",
    "        pert_idx.append(np.where(self.Nodes==pn)[0][0])\n",
    "    pert_idx_np = np.unique(np.array(pert_idx))\n",
    "        \n",
    "    yy_unique_for_pert = np.concatenate(yy, axis=0)\n",
    "    yy_unique_for_pert, counts = np.unique(yy_unique_for_pert, axis=0, return_counts=True)\n",
    "\n",
    "    print('second',pert_idx_np, stim_idx_np)\n",
    "    yy_p = np.array(attractor.find_attractor_pert_v4(newpa, yy_unique_for_pert, pert_idx_np, stim_idx_np, self.outmut_initial, initial_pert_idx_np, initial_stim_idx_np))\n",
    "\n",
    "    el = [x.shape[0] for x in yy_p]\n",
    "    yy_p_aver = np.average(np.concatenate(yy_p),axis=0,weights=np.repeat(counts,el))\n",
    "    \n",
    "    z.append(yy_p_aver[self.y_index] - yy_aver[self.y_index])\n",
    "z = np.array(z)"
   ]
  },
  {
   "cell_type": "code",
   "execution_count": 115,
   "metadata": {},
   "outputs": [
    {
     "name": "stdout",
     "output_type": "stream",
     "text": [
      "[[-0.09691768]\n",
      " [-0.09717397]\n",
      " [-0.09774875]\n",
      " [-0.09757778]\n",
      " [-0.09699503]\n",
      " [-0.09672317]\n",
      " [-0.0963813 ]\n",
      " [-0.09608763]\n",
      " [-0.09644754]\n",
      " [-0.09828796]]\n"
     ]
    }
   ],
   "source": [
    "yy_p_aver[self.y_index] - yy_aver[self.y_index]\n",
    "print(z)"
   ]
  },
  {
   "cell_type": "code",
   "execution_count": 109,
   "metadata": {},
   "outputs": [
    {
     "data": {
      "text/plain": [
       "array([], dtype=float64)"
      ]
     },
     "execution_count": 109,
     "metadata": {},
     "output_type": "execute_result"
    }
   ],
   "source": [
    "pert_idx_np"
   ]
  },
  {
   "cell_type": "markdown",
   "metadata": {},
   "source": [
    "# With mutation"
   ]
  },
  {
   "cell_type": "code",
   "execution_count": null,
   "metadata": {},
   "outputs": [
    {
     "name": "stdout",
     "output_type": "stream",
     "text": [
      "0 / 110\n",
      "10 / 110\n"
     ]
    }
   ],
   "source": [
    "self.outmut_initial = False\n",
    "miniidx = tp53idx\n",
    "#miniidx = np.arange(self.train_y_test.shape[1])\n",
    "istest = False\n",
    "if istest:\n",
    "    #miniidx = np.arange(self.train_y_test.shape[1])\n",
    "    data_mini = self.train_y_test.iloc[:,miniidx].values\n",
    "    pert_mini = self.perturbation_test.iloc[:,miniidx]!=0\n",
    "    status_mini = self.status_test.iloc[:,miniidx]\n",
    "else:\n",
    "    #miniidx = np.arange(self.train_y.shape[1])\n",
    "    data_mini = self.train_y.iloc[:,miniidx].values\n",
    "    pert_mini = self.perturbation.iloc[:,miniidx]!=0\n",
    "    status_mini = self.status.iloc[:,miniidx]\n",
    "\n",
    "current_sm = self.sign_mask\n",
    "current_origin = self.weightmat[self.weightmat!=0]\n",
    "\n",
    "\n",
    "newpa = np.array(current_sm.copy())\n",
    "#newpa[newpa!=0] = np.round([:-len(self.Nodes[self.num_input_node:])]).astype(np.int)\n",
    "newpa[newpa!=0] = np.round(a_pred).astype(np.int)\n",
    "\n",
    "newpa = newpa * current_sm\n",
    "newba = 0\n",
    "\n",
    "yhouse = []; yyhouse = []\n",
    "for i in range(len(miniidx)):\n",
    "    if i % 10 == 0:\n",
    "        print(i,'/',len(miniidx))\n",
    "    status_pert_nodes = list(status_mini.index[status_mini.iloc[:,i]==-1])\n",
    "    status_stim_nodes = list(status_mini.index[status_mini.iloc[:,i]==1])\n",
    "\n",
    "    stim_idx = []\n",
    "    pert_idx = []\n",
    "    for pn in status_pert_nodes:\n",
    "        pert_idx.append(np.where(self.Nodes==pn)[0][0])\n",
    "    for sn in status_stim_nodes:\n",
    "        stim_idx.append(np.where(self.Nodes==sn)[0][0])\n",
    "    stim_idx_np = np.array(stim_idx)\n",
    "    pert_idx_np = np.array(pert_idx)\n",
    "\n",
    "    initial_status_pert_nodes = list(status_mini.index[status_mini.iloc[:,i]==-2])\n",
    "    initial_status_stim_nodes = list(status_mini.index[status_mini.iloc[:,i]==2])\n",
    "\n",
    "    initial_stim_idx = []\n",
    "    initial_pert_idx = []\n",
    "    for pn in initial_status_pert_nodes:\n",
    "        initial_pert_idx.append(np.where(self.Nodes==pn)[0][0])\n",
    "    for sn in initial_status_stim_nodes:\n",
    "        initial_stim_idx.append(np.where(self.Nodes==sn)[0][0])\n",
    "    initial_stim_idx_np = np.array(initial_stim_idx)\n",
    "    initial_pert_idx_np = np.array(initial_pert_idx)\n",
    "\n",
    "    if self.calc_type == 'original':\n",
    "        cur_initials = self.initials.copy()\n",
    "        if self.outmut_initial:\n",
    "            if initial_stim_idx_np.size > 0:\n",
    "                cur_initials[:,initial_stim_idx_np] = 1\n",
    "            if initial_pert_idx_np.size > 0:\n",
    "                cur_initials[:,initial_pert_idx_np] = -1\n",
    "            cur_initials = np.unique(cur_initials, axis=0)\n",
    "\n",
    "        if self.use_v4:\n",
    "            yy = np.array(attractor.find_attractor_pert_v4(newpa, cur_initials, pert_idx_np, stim_idx_np, self.outmut_initial, initial_pert_idx_np, initial_stim_idx_np))\n",
    "        else:\n",
    "            yy = np.array(attractor.find_attractor_pert_v3(newpa, newba, self.initials, pert_idx_np, stim_idx_np))\n",
    "        yy_unique = np.concatenate(yy,axis=0)\n",
    "        yy_unique, counts = np.unique(yy_unique, axis=0, return_counts=True)\n",
    "        yy_aver = np.average(yy_unique,axis=0,weights=counts)\n",
    "        if self.use_v4:\n",
    "            yy_aver += 1\n",
    "            \n",
    "        yhouse.append(yy_aver/2)\n",
    "        \n",
    "        yy_unique_for_pert = np.concatenate(yy, axis=0)\n",
    "        yy_unique_for_pert, counts = np.unique(yy_unique_for_pert, axis=0, return_counts=True)\n",
    "\n",
    "        pert_nodes = [s for s in list(pert_mini.index[pert_mini.iloc[:,i]])]\n",
    "        for pn in pert_nodes:\n",
    "            pert_idx.append(np.where(self.Nodes==pn)[0][0])\n",
    "\n",
    "        # Remove activated nodes if they are perturbed\n",
    "        inters = np.intersect1d(stim_idx, pert_idx)\n",
    "        if inters.shape[0] > 0:\n",
    "            for inin in inters:\n",
    "                stim_idx.remove(inin)\n",
    "\n",
    "        stim_idx_np = np.unique(np.array(stim_idx))\n",
    "        pert_idx_np = np.unique(np.array(pert_idx))\n",
    "\n",
    "        if self.use_v4:\n",
    "            yy_p = np.array(attractor.find_attractor_pert_v4(newpa, yy_unique_for_pert, pert_idx_np, stim_idx_np, self.outmut_initial, initial_pert_idx_np, initial_stim_idx_np))\n",
    "        else:\n",
    "            yy_p = np.array(attractor.find_attractor_pert_v3(newpa, newba, yy_unique_for_pert, pert_idx_np, stim_idx_np))\n",
    "        el = [x.shape[0] for x in yy_p]\n",
    "        yy_p_aver = np.average(np.concatenate(yy_p),axis=0,weights=np.repeat(counts,el))\n",
    "        if self.use_v4:\n",
    "            yy_p_aver += 1\n",
    "            \n",
    "        yyhouse.append(yy_p_aver/2)\n",
    "        \n",
    "    elif self.calc_type == 'original_r':\n",
    "        newpa = a_pred.copy()\n",
    "        newpa = np.array2string(newpa.astype(np.int), max_line_width=np.inf, separator=',')\n",
    "        newpa = re.sub('[\\[\\] ]','', newpa)\n",
    "        newba = np.zeros(self.Nodes.size)\n",
    "\n",
    "        if stim_idx_np.size > 0:\n",
    "            newba[stim_idx_np] = 100\n",
    "        if pert_idx_np.size > 0:\n",
    "            newba[pert_idx_np] = -100\n",
    "        if initial_stim_idx_np.size > 0:\n",
    "            newba[initial_stim_idx_np] = 1\n",
    "        if initial_pert_idx_np.size > 0:\n",
    "            newba[initial_pert_idx_np] = -1\n",
    "        newba_s = np.array2string(newba.astype(np.int), max_line_width=np.inf, separator=',')\n",
    "        newba_s = re.sub('[\\[\\] ]','', newba_s)\n",
    "\n",
    "        pert_nodes = [s for s in list(pert_mini.index[pert_mini.iloc[:,i]])]\n",
    "        pert_nodes_s = ','.join(pert_nodes)\n",
    "        pert_val = np.zeros(len(pert_nodes), dtype=np.int)\n",
    "        pert_val_s = ','.join([str(0)]*len(pert_nodes))\n",
    "\n",
    "        results = subprocess.check_output(['Rscript', 'find_attractor_basins.R', self.ss, newpa, self.Nodes_string, newba_s, '10000', pert_nodes_s, pert_val_s], universal_newlines=True, stderr=subprocess.DEVNULL)\n",
    "        results = json.loads(results.strip().split('\\n')[-1])\n",
    "        yy_aver = np.array(results['attr_scores'])[np.array(results['genes']) == 'Proliferation'].mean()\n",
    "        yy_p_aver = np.array(results['drug_attr_scores'])[np.array(results['genes']) == 'Proliferation'].mean()      \n",
    "\n",
    "        yhouse.append(np.array(results['attr_scores']))\n",
    "        yyhouse.append(np.array(results['drug_attr_scores']))\n",
    "        \n",
    "\n",
    "yhouse = np.array(yhouse)\n",
    "yyhouse = np.array(yyhouse)\n"
   ]
  },
  {
   "cell_type": "code",
   "execution_count": 129,
   "metadata": {},
   "outputs": [
    {
     "name": "stdout",
     "output_type": "stream",
     "text": [
      "['IGF1R' 'PDGFRA' 'PRKCB' 'PTPN6'] ['EGFR' 'ERBB2' 'TP53']\n"
     ]
    }
   ],
   "source": [
    "print(self.Nodes[stim_idx_np], self.Nodes[pert_idx_np])"
   ]
  },
  {
   "cell_type": "code",
   "execution_count": 143,
   "metadata": {},
   "outputs": [
    {
     "name": "stdout",
     "output_type": "stream",
     "text": [
      "[ 8 11 17 16 30 32 12  8  0  2]\n",
      "[-0.29857301 -0.18230553 -0.06603806  0.05022942  0.1664969   0.28276438\n",
      "  0.39903186  0.51529934  0.63156682  0.7478343   0.86410178]\n"
     ]
    },
    {
     "data": {
      "text/plain": [
       "<matplotlib.axes._subplots.AxesSubplot at 0x7f9baa87dcc0>"
      ]
     },
     "execution_count": 143,
     "metadata": {},
     "output_type": "execute_result"
    },
    {
     "data": {
      "image/png": "[encoded data removed]",
      "text/plain": [
       "<Figure size 432x288 with 1 Axes>"
      ]
     },
     "metadata": {
      "needs_background": "light"
     },
     "output_type": "display_data"
    }
   ],
   "source": [
    "target = yhouse\n",
    "q,w = np.triu_indices(target.shape[0],1)\n",
    "print(np.histogram(np.corrcoef(target)[q,w])[0])\n",
    "print(np.histogram(np.corrcoef(target)[q,w])[1])\n",
    "sns.distplot(np.corrcoef(target)[q,w])"
   ]
  },
  {
   "cell_type": "code",
   "execution_count": 144,
   "metadata": {
    "scrolled": false
   },
   "outputs": [
    {
     "name": "stdout",
     "output_type": "stream",
     "text": [
      "[ 3  0  1  1  0  0  0  2  0 10]\n",
      "[0.  0.1 0.2 0.3 0.4 0.5 0.6 0.7 0.8 0.9 1. ]\n"
     ]
    },
    {
     "data": {
      "image/png": "[encoded data removed]",
      "text/plain": [
       "<Figure size 432x288 with 1 Axes>"
      ]
     },
     "metadata": {
      "needs_background": "light"
     },
     "output_type": "display_data"
    }
   ],
   "source": [
    "if self.calc_type == 'original':\n",
    "    print(np.histogram(target[:,self.y_index])[0])\n",
    "    print(np.histogram(target[:,self.y_index])[1])\n",
    "    sns.distplot(target[:,self.y_index])\n",
    "else:\n",
    "    print(np.histogram(target[:,np.array(results['genes']) == 'Proliferation'])[0])\n",
    "    print(np.histogram(target[:,np.array(results['genes']) == 'Proliferation'])[1])\n",
    "    sns.distplot(target[:,np.array(results['genes']) == 'Proliferation'])"
   ]
  },
  {
   "cell_type": "code",
   "execution_count": 145,
   "metadata": {},
   "outputs": [
    {
     "data": {
      "text/plain": [
       "array([[1.        , 0.26055972],\n",
       "       [0.26055972, 1.        ]])"
      ]
     },
     "execution_count": 145,
     "metadata": {},
     "output_type": "execute_result"
    }
   ],
   "source": [
    "data_mini\n",
    "np.corrcoef((yyhouse[:,self.y_index] - yhouse[:,self.y_index]).ravel(), data_mini)"
   ]
  },
  {
   "cell_type": "code",
   "execution_count": 146,
   "metadata": {
    "scrolled": true
   },
   "outputs": [
    {
     "data": {
      "text/plain": [
       "<matplotlib.axes._subplots.AxesSubplot at 0x7f9baa6e2780>"
      ]
     },
     "execution_count": 146,
     "metadata": {},
     "output_type": "execute_result"
    },
    {
     "data": {
      "image/png": "[encoded data removed]",
      "text/plain": [
       "<Figure size 432x288 with 1 Axes>"
      ]
     },
     "metadata": {
      "needs_background": "light"
     },
     "output_type": "display_data"
    }
   ],
   "source": [
    "sns.scatterplot((yyhouse[:,self.y_index] - yhouse[:,self.y_index]).ravel(), data_mini.ravel())"
   ]
  }
 ],
 "metadata": {
  "kernelspec": {
   "display_name": "Python 3",
   "language": "python",
   "name": "python3"
  },
  "language_info": {
   "codemirror_mode": {
    "name": "ipython",
    "version": 3
   },
   "file_extension": ".py",
   "mimetype": "text/x-python",
   "name": "python",
   "nbconvert_exporter": "python",
   "pygments_lexer": "ipython3",
   "version": "3.6.9"
  }
 },
 "nbformat": 4,
 "nbformat_minor": 4
}
