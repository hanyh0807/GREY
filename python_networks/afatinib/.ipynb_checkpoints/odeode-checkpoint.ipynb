{
 "cells": [
  {
   "cell_type": "code",
   "execution_count": 1,
   "metadata": {},
   "outputs": [],
   "source": [
    "import numpy as np\n",
    "import pandas as pd\n",
    "import seaborn as sns\n",
    "from scipy.integrate import odeint\n",
    "from afa_ode import *\n",
    "\n",
    "adjmat = pd.read_csv('afatinib_network.csv', header=0,index_col=0)"
   ]
  },
  {
   "cell_type": "code",
   "execution_count": 25,
   "metadata": {},
   "outputs": [],
   "source": [
    "net = adjmat.values\n",
    "np.random.seed(10)\n",
    "w = np.random.rand(146)\n",
    "e = np.random.rand(57)\n",
    "a = np.random.rand(57)"
   ]
  },
  {
   "cell_type": "code",
   "execution_count": 26,
   "metadata": {},
   "outputs": [],
   "source": [
    "delta = -3\n",
    "d = [0,0]\n",
    "x = np.zeros(57)\n",
    "t = np.linspace(0,100,1001)"
   ]
  },
  {
   "cell_type": "code",
   "execution_count": 27,
   "metadata": {},
   "outputs": [],
   "source": [
    "posmut = [1,15]\n",
    "negmut = [3,5]\n",
    "\n",
    "constant = 5\n",
    "x[posmut] = constant\n",
    "x[negmut] = -constant\n",
    "\n",
    "mutidx = np.concatenate((posmut, negmut))\n",
    "targetidx = [15,17]\n",
    "fixidx = np.setdiff1d(mutidx, targetidx)"
   ]
  },
  {
   "cell_type": "code",
   "execution_count": 28,
   "metadata": {
    "scrolled": true
   },
   "outputs": [
    {
     "name": "stdout",
     "output_type": "stream",
     "text": [
      "(1001, 57)\n"
     ]
    }
   ],
   "source": [
    "y = odeint(func, x, t, args=(w, e, a, delta, d, net, mutidx, targetidx, fixidx))\n",
    "d = [10,0]#EGFR pert.\n",
    "yp = odeint(func, x, t, args=(w, e, a, delta, d, net, mutidx, targetidx, fixidx))\n",
    "print(y.shape)"
   ]
  },
  {
   "cell_type": "code",
   "execution_count": 29,
   "metadata": {},
   "outputs": [
    {
     "name": "stdout",
     "output_type": "stream",
     "text": [
      "Index(['ERBB2', 'ESR1', 'PTK2', 'STAT1'], dtype='object') (array([17, 18, 44, 51]),)\n"
     ]
    }
   ],
   "source": [
    "downstream = (adjmat.values[:,15] != 0)\n",
    "print(adjmat.index[np.where(downstream)], np.where(downstream))"
   ]
  },
  {
   "cell_type": "code",
   "execution_count": 30,
   "metadata": {},
   "outputs": [
    {
     "name": "stdout",
     "output_type": "stream",
     "text": [
      "Index(['EGFR', 'PRKACA'], dtype='object') (array([15, 40]),)\n"
     ]
    }
   ],
   "source": [
    "upstream = (adjmat.values[17,:] != 0)\n",
    "print(adjmat.columns[np.where(upstream)], np.where(upstream))"
   ]
  },
  {
   "cell_type": "code",
   "execution_count": 31,
   "metadata": {},
   "outputs": [
    {
     "data": {
      "text/plain": [
       "(array([46]),)"
      ]
     },
     "execution_count": 31,
     "metadata": {},
     "output_type": "execute_result"
    }
   ],
   "source": [
    "np.where(adjmat.columns=='Proliferation')"
   ]
  },
  {
   "cell_type": "code",
   "execution_count": 33,
   "metadata": {},
   "outputs": [
    {
     "data": {
      "text/plain": [
       "<matplotlib.axes._subplots.AxesSubplot at 0x7f24138a4d30>"
      ]
     },
     "execution_count": 33,
     "metadata": {},
     "output_type": "execute_result"
    },
    {
     "data": {
      "image/png": "[encoded data removed]",
      "text/plain": [
       "<Figure size 432x288 with 1 Axes>"
      ]
     },
     "metadata": {
      "needs_background": "light"
     },
     "output_type": "display_data"
    }
   ],
   "source": [
    "idx = 44\n",
    "df = pd.DataFrame({'control':y[:,idx], 'pert':yp[:,idx]})\n",
    "sns.lineplot(data=df)"
   ]
  }
 ],
 "metadata": {
  "kernelspec": {
   "display_name": "Python 3",
   "language": "python",
   "name": "python3"
  },
  "language_info": {
   "codemirror_mode": {
    "name": "ipython",
    "version": 3
   },
   "file_extension": ".py",
   "mimetype": "text/x-python",
   "name": "python",
   "nbconvert_exporter": "python",
   "pygments_lexer": "ipython3",
   "version": "3.6.9"
  }
 },
 "nbformat": 4,
 "nbformat_minor": 4
}
